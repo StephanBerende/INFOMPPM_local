{
 "cells": [
  {
   "attachments": {},
   "cell_type": "markdown",
   "metadata": {},
   "source": [
    "# 📚 Recommendations based on Frequently Reviewed Together (frequency)\n",
    "Use the `permutations` function from `itertools` to create combinations of books that are frequently reviewed together. "
   ]
  },
  {
   "cell_type": "markdown",
   "metadata": {},
   "source": [
    "### 1. Quick introduction to permutations"
   ]
  },
  {
   "cell_type": "code",
   "execution_count": null,
   "metadata": {},
   "outputs": [],
   "source": [
    "from itertools import permutations \n",
    "\n",
    "# items bought together\n",
    "items = ['milk', 'bread', 'eggs']\n",
    "\n",
    "# this code creates sets of 2 items from the itemset above\n",
    "list(permutations(items, 2))"
   ]
  },
  {
   "cell_type": "markdown",
   "metadata": {},
   "source": [
    "### 2. Count the combinations of books reviewed together\n",
    "Create combinations with `permutations` and count how often each combination occurs. This process might be time-consuming, depending on your initial data exploration."
   ]
  },
  {
   "cell_type": "code",
   "execution_count": null,
   "metadata": {},
   "outputs": [],
   "source": [
    "# code goes here"
   ]
  },
  {
   "cell_type": "markdown",
   "metadata": {},
   "source": [
    "### 3. Save the recommendations\n",
    "Given the potential size of the output, limit the CSV file to include only the top 10 recommendations per book. Save this as `recommendations-seeded-freq.csv` and update the file in the app directory. Remember to enable the code block related to this step if it was previously commented out.\n"
   ]
  }
 ],
 "metadata": {
  "interpreter": {
   "hash": "37c10f95d263926787ebf1d430d11186fc6b9bac835b8518e0b5006ed24f0c36"
  },
  "kernelspec": {
   "display_name": "Python 3.8.0 64-bit",
   "language": "python",
   "name": "python3"
  },
  "language_info": {
   "codemirror_mode": {
    "name": "ipython",
    "version": 3
   },
   "file_extension": ".py",
   "mimetype": "text/x-python",
   "name": "python",
   "nbconvert_exporter": "python",
   "pygments_lexer": "ipython3",
   "version": "3.8.0"
  },
  "orig_nbformat": 4
 },
 "nbformat": 4,
 "nbformat_minor": 2
}
