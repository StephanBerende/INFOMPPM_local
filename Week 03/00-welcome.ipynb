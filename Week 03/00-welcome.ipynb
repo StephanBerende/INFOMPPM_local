{
 "cells": [
  {
   "cell_type": "markdown",
   "metadata": {},
   "source": [
    "# 👋 Welcome to a practical implementation of diversity 👋 \n",
    "Your task this week is to create a movie recommendation system using a dataset of movie plots. The goal is to recommend movies that are not only similar to a given movie but also diverse in their content. You will experiment with and apply concepts of text vectorization, cosine similarity, intra-list similarity, and diversity scoring.\n"
   ]
  }
 ],
 "metadata": {
  "kernelspec": {
   "display_name": "Python 3 (ipykernel)",
   "language": "python",
   "name": "python3"
  },
  "language_info": {
   "codemirror_mode": {
    "name": "ipython",
    "version": 3
   },
   "file_extension": ".py",
   "mimetype": "text/x-python",
   "name": "python",
   "nbconvert_exporter": "python",
   "pygments_lexer": "ipython3",
   "version": "3.11.4"
  }
 },
 "nbformat": 4,
 "nbformat_minor": 2
}
