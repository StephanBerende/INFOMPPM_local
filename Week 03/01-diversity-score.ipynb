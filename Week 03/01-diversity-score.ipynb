{
 "cells": [
  {
   "cell_type": "markdown",
   "metadata": {},
   "source": [
    "# Simple diversity score"
   ]
  },
  {
   "cell_type": "markdown",
   "metadata": {},
   "source": [
    "### The dataset\n",
    "This assignment uses the [Wikipedia Movie Plots](https://www.kaggle.com/datasets/jrobischon/wikipedia-movie-plots) dataset. The dataset contains descriptions of 34,886 movies from around the world. Column descriptions are listed below:\n",
    "\n",
    "- Release Year - Year in which the movie was released\n",
    "- Title - Movie title\n",
    "- Origin/Ethnicity - Origin of movie (i.e. American, Bollywood, Tamil, etc.)\n",
    "- Director - Director(s)\n",
    "- Plot - Main actor and actresses\n",
    "- Genre - Movie Genre(s)\n",
    "- Wiki Page - URL of the Wikipedia page from which the plot description was scraped\n",
    "- Plot - Long form description of movie plot (WARNING: May contain spoilers!!!)"
   ]
  },
  {
   "cell_type": "markdown",
   "metadata": {},
   "source": [
    "### Assignment 01\n",
    "\n",
    "* Data Preparation and Preprocessing:\n",
    "  - Load the dataset and explore its structure.\n",
    "  - Clean and preprocess the data as needed. Focus on the 'Plot' and 'Genre' columns for this assignment.\n",
    "\n",
    "* Feature Engineering:\n",
    "  - Combine relevant features to create a unified text representation for each movie. Suggested features to combine include 'Plot' and 'Genre'.\n",
    "\n",
    "* Vectorization:\n",
    "  - Use TF-IDF (Term Frequency-Inverse Document Frequency) to vectorize the combined text features of each movie.\n",
    "\n",
    "* Similarity Calculation:\n",
    "  - Calculate the cosine similarity between movies based on their vectorized features.\n",
    "\n",
    "* Diversity Scoring:\n",
    "\n",
    "  - For each movie, calculate a diversity score as $\\text{Diversity Score =}$ $1 - \\text{average cosine similarity}$\n",
    " with all other movies.\n",
    "\n",
    "* Recommendation Generation:\n",
    "  - Implement a function to generate movie recommendations for a given movie. The recommendations should be based on both similarity (movies should be similar to the given movie) and diversity (recommendations should be diverse).\n",
    "\n",
    "* Analysis:\n",
    "  - Analyze the differences between the recommendations generated with and without the diversity adjustment.\n",
    "  - Discuss how the diversity_factor influences the recommendation outcomes.\n",
    "  - Reflect on the potential benefits and drawbacks of introducing diversity into recommendation systems."
   ]
  },
  {
   "cell_type": "code",
   "execution_count": null,
   "metadata": {},
   "outputs": [],
   "source": [
    "# code goes here"
   ]
  },
  {
   "cell_type": "markdown",
   "metadata": {},
   "source": [
    "### Assignment 02\n",
    "\n",
    "* Similarity Score Calculation:\n",
    "  - Implement a function to calculate cosine similarity scores for items in your dataset. Use scikit-learn's cosine similarity function or write your own.\n",
    "  - Store the cosine similarity scores in a matrix.\n",
    "\n",
    "* Diversity Metric Implementation:\n",
    "  - Implement the diversity_metric function as provided in the earlier code below. This function should adjust the similarity scores based on the diversity_factor to introduce diversity into the recommendations.\n",
    "  - Experiment with different values of diversity_factor (e.g., 0.2, 0.4, 0.6) and observe how it affects the diversity of recommendations.\n",
    "\n",
    "* Recommendation Generation:\n",
    "  - Select a few items (e.g., movies or books) as the basis for generating recommendations.\n",
    "  - Apply the diversity_metric to the cosine similarity matrix to adjust the similarity scores.\n",
    "  - For each selected item, generate two sets of recommendations: one using the adjusted similarity scores and another using the original cosine similarity scores.\n",
    "  - Compare the two sets of recommendations to evaluate the impact of the diversity adjustment.\n",
    "\n",
    "* Analysis:\n",
    "  - Analyze the differences between the recommendations generated with and without the diversity adjustment.\n",
    "  - Discuss how the diversity_factor influences the recommendation outcomes.\n",
    "  - Reflect on the potential benefits and drawbacks of introducing diversity into recommendation systems."
   ]
  },
  {
   "cell_type": "code",
   "execution_count": null,
   "metadata": {},
   "outputs": [],
   "source": [
    "import numpy as np\n",
    "\n",
    "def diversity_metric(similarities, diversity_factor=0.4):\n",
    "    \"\"\"\n",
    "    Adjust similarity scores based on a diversity factor.\n",
    "    A higher diversity_factor promotes more diverse recommendations.\n",
    "    \"\"\"\n",
    "    # Apply diversity adjustment\n",
    "    adjusted_similarities = similarities - diversity_factor * np.random.rand(*similarities.shape)\n",
    "    return adjusted_similarities"
   ]
  }
 ],
 "metadata": {
  "kernelspec": {
   "display_name": "Python 3",
   "language": "python",
   "name": "python3"
  },
  "language_info": {
   "codemirror_mode": {
    "name": "ipython",
    "version": 3
   },
   "file_extension": ".py",
   "mimetype": "text/x-python",
   "name": "python",
   "nbconvert_exporter": "python",
   "pygments_lexer": "ipython3",
   "version": "3.12.1"
  }
 },
 "nbformat": 4,
 "nbformat_minor": 2
}
