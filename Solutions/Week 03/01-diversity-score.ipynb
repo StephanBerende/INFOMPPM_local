{
 "cells": [
  {
   "cell_type": "markdown",
   "metadata": {},
   "source": [
    "# Simple diversity score"
   ]
  },
  {
   "cell_type": "markdown",
   "metadata": {},
   "source": [
    "### The dataset\n",
    "This assignment uses the [Wikipedia Movie Plots](https://www.kaggle.com/datasets/jrobischon/wikipedia-movie-plots) dataset. The dataset contains descriptions of 34,886 movies from around the world. Column descriptions are listed below:\n",
    "\n",
    "- Release Year - Year in which the movie was released\n",
    "- Title - Movie title\n",
    "- Origin/Ethnicity - Origin of movie (i.e. American, Bollywood, Tamil, etc.)\n",
    "- Director - Director(s)\n",
    "- Plot - Main actor and actresses\n",
    "- Genre - Movie Genre(s)\n",
    "- Wiki Page - URL of the Wikipedia page from which the plot description was scraped\n",
    "- Plot - Long form description of movie plot (WARNING: May contain spoilers!!!)"
   ]
  },
  {
   "cell_type": "markdown",
   "metadata": {},
   "source": [
    "### Assignment 1\n",
    "#### Data preparation\n",
    "- Load the dataset and explore its structure.\n",
    "- Clean and preprocess the data as needed. Focus on the 'Plot' and 'Genre' columns for this assignment.\n",
    "\n",
    "Note that the preprocessing steps are chosen to demonstrate some steps you COULD apply, and are not \n",
    "necessarily optimal for the recommender system.\n"
   ]
  },
  {
   "cell_type": "code",
   "execution_count": null,
   "metadata": {},
   "outputs": [],
   "source": [
    "import pandas as pd\n",
    "import os.path as op\n",
    "import re\n",
    "\n",
    "fp = op.join('.', 'data', 'wiki_movie_plots_deduped.csv')\n",
    "df = pd.read_csv(fp, sep=',')\n",
    "\n",
    "def reduce_genre(genre):\n",
    "    ''' Reduce multiple genres to a single one.\n",
    "    Assumes the main genre is mentioned first.\n",
    "    Various separators are used (\",\",  \"_\", \"/\", \" \"), \n",
    "    so the split is peformed on any non-word character.\n",
    "    '''\n",
    "    first_word_pattern = r'(\\w+)\\W+.*'\n",
    "    match = re.search(first_word_pattern, genre)\n",
    "    if match:\n",
    "        return match.group(1)\n",
    "    return genre\n",
    "\n",
    "# In case of multiple genres, keep only the first\n",
    "df['Genre'] = df['Genre'].apply(reduce_genre)\n",
    "\n",
    "# Discard movies with 'unknown' genre\n",
    "df = df[df['Genre'] != 'unknown']\n",
    "\n",
    "# Remove movies with a genre occuring N times, they will be hard to recommend\n",
    "genre_cutoff = 5\n",
    "genre_counts = df['Genre'].value_counts()\n",
    "df = df[~df['Genre'].isin(genre_counts[genre_counts < genre_cutoff].index)]"
   ]
  },
  {
   "cell_type": "markdown",
   "metadata": {},
   "source": [
    "#### Feature engineering\n",
    "- Combine relevant features to create a unified text representation for each movie. Suggested features to combine include 'Plot' and 'Genre'."
   ]
  },
  {
   "cell_type": "code",
   "execution_count": null,
   "metadata": {},
   "outputs": [],
   "source": [
    "# We will consider 'Description' a combination of genre, director, and plot\n",
    "df['Description'] = df['Genre'] + ' ' +  df['Director'] + ' ' +  df['Plot']\n",
    "df['Description'].head()"
   ]
  },
  {
   "cell_type": "markdown",
   "metadata": {},
   "source": [
    "#### Vectorization:\n",
    "  - Use TF-IDF (Term Frequency-Inverse Document Frequency) to vectorize the combined text features of each movie."
   ]
  },
  {
   "cell_type": "code",
   "execution_count": null,
   "metadata": {},
   "outputs": [],
   "source": [
    "from sklearn.feature_extraction.text import TfidfVectorizer\n",
    "\n",
    "vectorizer = TfidfVectorizer(\n",
    "    strip_accents='unicode',\n",
    "    lowercase=True,\n",
    "    stop_words='english',\n",
    ")\n",
    "\n",
    "movie_vectors = vectorizer.fit_transform(df['Description'])"
   ]
  },
  {
   "cell_type": "code",
   "execution_count": null,
   "metadata": {},
   "outputs": [],
   "source": [
    "print(movie_vectors.shape)\n",
    "print(vectorizer.stop_words_)"
   ]
  },
  {
   "cell_type": "markdown",
   "metadata": {},
   "source": [
    "#### Similarity Calculation:\n",
    "  - Calculate the cosine similarity between movies based on their vectorized features."
   ]
  },
  {
   "cell_type": "code",
   "execution_count": null,
   "metadata": {},
   "outputs": [],
   "source": [
    "# We have proven that we can implement cosine similarty ourselves\n",
    "# So let's just use a package now\n",
    "\n",
    "from sklearn.metrics.pairwise import cosine_similarity\n",
    "import numpy as np\n",
    "\n",
    "# Test the function, the similarity of the same row should be 1\n",
    "print(cosine_similarity(movie_vectors[0], movie_vectors[0]))\n",
    "\n",
    "# Calculate similarities between all movies\n",
    "# Depending on your preprocessing, this can take a while\n",
    "similarity_matrix = cosine_similarity(movie_vectors, movie_vectors)"
   ]
  },
  {
   "cell_type": "code",
   "execution_count": null,
   "metadata": {},
   "outputs": [],
   "source": [
    "# Note that the shape of the similarities equals\n",
    "# N_movies x N_movies\n",
    "similarity_matrix.shape"
   ]
  },
  {
   "cell_type": "markdown",
   "metadata": {},
   "source": [
    "#### Diversity Scoring:\n",
    "\n",
    "  - For each movie, calculate a diversity score as $\\text{Diversity Score =}$ $1 - \\text{average cosine similarity}$\n",
    " with all other movies."
   ]
  },
  {
   "cell_type": "code",
   "execution_count": null,
   "metadata": {},
   "outputs": [],
   "source": [
    "similarities_df = pd.DataFrame(similarity_matrix, index=df.index, columns=df.index)\n",
    "similarity_avg = similarities_df.mean(axis=1)\n",
    "df['diversity'] = 1-similarity_avg"
   ]
  },
  {
   "cell_type": "markdown",
   "metadata": {},
   "source": [
    "#### Recommendation Generation:\n",
    "  - Implement a function to generate movie recommendations for a given movie. The recommendations should be based on both similarity (movies should be similar to the given movie) and diversity (recommendations should be diverse)."
   ]
  },
  {
   "cell_type": "code",
   "execution_count": null,
   "metadata": {},
   "outputs": [],
   "source": [
    "import functools\n",
    "\n",
    "from sklearn.preprocessing import MinMaxScaler\n",
    "\n",
    "def get_similarities(movie_id):\n",
    "    '''Gets similarity scores for all other movies'''\n",
    "    similarities = similarities_df.loc[movie_id]\n",
    "    similarities.drop(movie_id, inplace=True)\n",
    "    return similarities.rename('similarity').to_frame()\n",
    "\n",
    "def scale_features(movie_df):\n",
    "    '''Scales relevant features to domain [0, 1]'''\n",
    "    scaler = MinMaxScaler((0,1))\n",
    "    scaler.fit(movie_df.similarity.to_frame())\n",
    "    movie_df['similarity_scaled'] = scaler.transform(movie_df.similarity.to_frame())\n",
    "\n",
    "    scaler.fit(movie_df.diversity.to_frame())\n",
    "    movie_df['diversity_scaled'] = scaler.transform(movie_df.diversity.to_frame())\n",
    "\n",
    "    return movie_df\n",
    "\n",
    "def weighted_score(movie, similarity_weight, diversity_weight):\n",
    "    '''Calculates weighter average for relevant (scaled) features'''\n",
    "    sw = movie ['similarity_scaled'] * similarity_weight\n",
    "    dw = movie['diversity_scaled'] * diversity_weight\n",
    "    total_weights = similarity_weight + diversity_weight\n",
    "    return (sw + dw) / total_weights\n",
    "\n",
    "def recommend_movies(movie_id, n_results=10, diversity_factor=0.5, similarity_factor=1):\n",
    "    similarities = get_similarities(movie_id)\n",
    "    \n",
    "    # dataframe with relevant features for a single movie\n",
    "    movie_df = df.drop(movie_id, axis='rows').join(similarities)\n",
    "    movie_df = scale_features(movie_df)\n",
    "\n",
    "    # calculate the weighted score\n",
    "    weight_func = functools.partial(weighted_score, \n",
    "                                    similarity_weight=similarity_factor,\n",
    "                                    diversity_weight=diversity_factor)\n",
    "    movie_df['recommender_score'] = movie_df.apply(weight_func, axis='columns')\n",
    "\n",
    "    return movie_df.sort_values('recommender_score', ascending=False).head(n_results)"
   ]
  },
  {
   "cell_type": "markdown",
   "metadata": {},
   "source": [
    "#### Analysis:\n",
    "  - Analyze the differences between the recommendations generated with and without the diversity adjustment.\n",
    "  - Discuss how the diversity_factor influences the recommendation outcomes.\n",
    "  - Reflect on the potential benefits and drawbacks of introducing diversity into recommendation systems."
   ]
  },
  {
   "cell_type": "code",
   "execution_count": null,
   "metadata": {},
   "outputs": [],
   "source": [
    "\n",
    "def display_recommendations(movie_id, diversity_factors=[0, .25, .5, .75, 1]):\n",
    "    recommendations = [\n",
    "        recommend_movies(movie_id, 10, f)[['Title', 'recommender_score']].values.tolist()\n",
    "        for f in diversity_factors\n",
    "    ]\n",
    "\n",
    "    print('Recommendations for movie \"{}\":\\n'.format(random_movie.Title.values[0]))\n",
    "    print(*recommendations, sep='\\n')\n",
    "\n",
    "# Select a random movie\n",
    "random_movie = df.sample(1)\n",
    "movie_id = random_movie.index[0]\n",
    "# and show recommendations for various diversity factors\n",
    "display_recommendations(movie_id)"
   ]
  },
  {
   "cell_type": "markdown",
   "metadata": {},
   "source": [
    "### Assignment 02\n",
    "\n",
    "* Similarity Score Calculation:\n",
    "  - Implement a function to calculate cosine similarity scores for items in your dataset. Use scikit-learn's cosine similarity function or write your own.\n",
    "  - Store the cosine similarity scores in a matrix.\n",
    "\n",
    "* Diversity Metric Implementation:\n",
    "  - Implement the diversity_metric function as provided in the earlier code below. This function should adjust the similarity scores based on the diversity_factor to introduce diversity into the recommendations.\n",
    "  - Experiment with different values of diversity_factor (e.g., 0.2, 0.4, 0.6) and observe how it affects the diversity of recommendations.\n",
    "\n",
    "* Recommendation Generation:\n",
    "  - Select a few items (e.g., movies or books) as the basis for generating recommendations.\n",
    "  - Apply the diversity_metric to the cosine similarity matrix to adjust the similarity scores.\n",
    "  - For each selected item, generate two sets of recommendations: one using the adjusted similarity scores and another using the original cosine similarity scores.\n",
    "  - Compare the two sets of recommendations to evaluate the impact of the diversity adjustment.\n",
    "\n",
    "* Analysis:\n",
    "  - Analyze the differences between the recommendations generated with and without the diversity adjustment.\n",
    "  - Discuss how the diversity_factor influences the recommendation outcomes.\n",
    "  - Reflect on the potential benefits and drawbacks of introducing diversity into recommendation systems."
   ]
  },
  {
   "cell_type": "code",
   "execution_count": null,
   "metadata": {},
   "outputs": [],
   "source": [
    "import numpy as np\n",
    "\n",
    "def diversity_metric(similarities, diversity_factor=0.4):\n",
    "    \"\"\"\n",
    "    Adjust similarity scores based on a diversity factor.\n",
    "    A higher diversity_factor promotes more diverse recommendations.\n",
    "    \"\"\"\n",
    "    if diversity_factor == 0:\n",
    "        return similarities\n",
    "    # Apply diversity adjustment\n",
    "    adjusted_similarities = similarities - diversity_factor * np.random.rand(*similarities.shape)\n",
    "    return adjusted_similarities"
   ]
  },
  {
   "cell_type": "code",
   "execution_count": null,
   "metadata": {},
   "outputs": [],
   "source": [
    "# Some input data\n",
    "interesting_movies = ['Toy Story', 'Notting Hill', 'Mulholland Drive']\n",
    "original_similarities = similarity_matrix # reuse this from earlier"
   ]
  },
  {
   "cell_type": "code",
   "execution_count": null,
   "metadata": {},
   "outputs": [],
   "source": [
    "def create_similarity_frames(similarities, diversity_factors=[0, .2, .4, .6, .8, 1]):\n",
    "    '''Creates a dataframe with similarities for each diverstiy factors\n",
    "    diversity_factor = 0 are the unaltered similarities'''\n",
    "    return {f: diversity_metric(similarities, f) for f in diversity_factors}\n",
    "\n",
    "# Generate diversified similarty matrices\n",
    "# This can take a while\n",
    "diversified_similarities = create_similarity_frames(original_similarities, [0, .4])"
   ]
  },
  {
   "cell_type": "code",
   "execution_count": null,
   "metadata": {},
   "outputs": [],
   "source": [
    "def recommend(movie_title, diversified_similarities, movies_df, N_results=10):\n",
    "    '''Recommend movies using the diversity metric\n",
    "    Note that this implementation is written mostly in Numpy\n",
    "    Converting to Pandas dataframe increased calculation time so much it made the kernel crash..\n",
    "    \n",
    "    If you manage to do it in Pandas, power to you!\n",
    "    '''\n",
    "    def get_title(idx):\n",
    "        return movies_df.iloc[idx]['Title']\n",
    "\n",
    "    movie_index = movies_df.loc[movies_df['Title'] == movie_title].index[0]\n",
    "    for factor, similarities in diversified_similarities.items():\n",
    "        print('Recommendations for {}, diversity factor {}:'.format(movie_title, factor))\n",
    "        # get the top similarities\n",
    "        recommendations = similarities[movie_index]\n",
    "        # retrieve N best\n",
    "        n_best = (-recommendations).argsort()[:N_results]\n",
    "        # join with movies_df to get the titles\n",
    "        for idx in n_best:\n",
    "            print(f'{get_title(idx)} ({recommendations[idx]})')\n",
    "        print('\\n')\n",
    "\n",
    "for movie_title in interesting_movies:\n",
    "    recommend(movie_title, diversified_similarities, df, 5)"
   ]
  }
 ],
 "metadata": {
  "kernelspec": {
   "display_name": "Python 3",
   "language": "python",
   "name": "python3"
  },
  "language_info": {
   "codemirror_mode": {
    "name": "ipython",
    "version": 3
   },
   "file_extension": ".py",
   "mimetype": "text/x-python",
   "name": "python",
   "nbconvert_exporter": "python",
   "pygments_lexer": "ipython3",
   "version": "3.11.0"
  }
 },
 "nbformat": 4,
 "nbformat_minor": 2
}
