{
 "cells": [
  {
   "cell_type": "markdown",
   "metadata": {},
   "source": [
    "# 👋 Welcome to a practical implementation of diversity 👋 \n",
    "Your task this week is to create a movie recommendation system using a dataset of movie plots. The goal is to recommend movies that are not only similar to a given movie but also diverse in their content. You will experiment with and apply concepts of text vectorization, cosine similarity, intra-list similarity, and diversity scoring.\n"
   ]
  }
 ],
 "metadata": {
  "language_info": {
   "name": "python"
  }
 },
 "nbformat": 4,
 "nbformat_minor": 2
}
