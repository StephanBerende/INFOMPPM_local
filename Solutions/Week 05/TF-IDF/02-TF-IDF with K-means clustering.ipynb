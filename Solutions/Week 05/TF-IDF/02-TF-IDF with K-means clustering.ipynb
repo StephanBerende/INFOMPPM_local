{
 "cells": [
  {
   "cell_type": "markdown",
   "id": "73c245ba",
   "metadata": {},
   "source": [
    "# TF-IDF with K-means clustering\n",
    "\n",
    "While _TF-IDF_ was presented in the last section, for us to understand what the metric is, here we will use it to cluster documents (or IMDb plots in our case) using the K-means clustering algorithm. As you will see, to achieve this, we will use sci-kit's `sklearn` packages, making the _TF-IDF_ vectorisation quite easy!"
   ]
  },
  {
   "cell_type": "markdown",
   "id": "269745aa",
   "metadata": {},
   "source": [
    "## Loading the IMDb dataset\n",
    "\n",
    "Load the IMDb dataset and look closely at the 'Plot' column"
   ]
  },
  {
   "cell_type": "code",
   "execution_count": null,
   "id": "207fdfd0",
   "metadata": {},
   "outputs": [],
   "source": [
    "import pandas as pd\n",
    "\n",
    "df_imdb = pd.read_csv('../data/imdb.csv', sep=',')"
   ]
  },
  {
   "cell_type": "markdown",
   "id": "b94146e4",
   "metadata": {},
   "source": [
    "Make a list of plots, filtering out any non-string like entities from the dataframe."
   ]
  },
  {
   "cell_type": "code",
   "execution_count": null,
   "id": "d3babf48",
   "metadata": {},
   "outputs": [],
   "source": [
    "list_title_with_plot = df_imdb[['Title', 'Plot']].values.tolist()\n",
    "\n",
    "# filter non-string plots \n",
    "list_title_with_plot = [entry for entry in list_title_with_plot if type(entry[1]) == str]\n",
    "\n",
    "list_plots = [entry[1] for entry in list_title_with_plot]\n",
    "\n",
    "print(list_plots[:10])\n"
   ]
  },
  {
   "cell_type": "markdown",
   "id": "633ff06c",
   "metadata": {},
   "source": [
    "## Preprocessor: Strip punctuation from text\n",
    "\n",
    "As you can see below, `sklearn` allows us to preprocess the strings it takes as input (our list of plots) by asking for a function taking a single string as input and returning a cleaned up string as output. Complete the function below by stripping out any punctionation from the input. Try utilising python's `string` library to do so."
   ]
  },
  {
   "cell_type": "code",
   "execution_count": null,
   "id": "675e412f",
   "metadata": {},
   "outputs": [],
   "source": [
    "import string \n",
    "\n",
    "def preprocess(text):\n",
    "    return text.translate(str.maketrans('', '', string.punctuation))\n",
    "\n",
    "# preprocess(list_plots[5])"
   ]
  },
  {
   "cell_type": "markdown",
   "id": "563dd841",
   "metadata": {},
   "source": [
    "## TF-IDF and K-means\n",
    "\n",
    "Sci-kit's `sklearn` library has both _TF-IDF_ and K-means clustring functionality which we can use in conjunction together. As you can see below, the `TfidfVectorizer` can be used to compute _TF-IDF_ out of a list of documents (plots in our case). Interestingly, the vectorizer has both stop_words and preprocessor functionalities, something that ressembles the types of string manipulation we did in the previous section. When the `tfidf` matrix (yes, it is a matrix here) is computed, `KMeans` is used to cluster documents according to the content of their respective `tfidf` vector. "
   ]
  },
  {
   "cell_type": "code",
   "execution_count": null,
   "id": "931e70c1",
   "metadata": {},
   "outputs": [],
   "source": [
    "from sklearn.feature_extraction.text import TfidfVectorizer\n",
    "from sklearn.cluster import KMeans\n",
    "\n",
    "tfidf_vectorizer = TfidfVectorizer(preprocessor=preprocess, lowercase=True, stop_words='english')\n",
    "\n",
    "tfidf = tfidf_vectorizer.fit_transform(list_plots)\n",
    "\n",
    "kmeans = KMeans(n_clusters=6).fit(tfidf)"
   ]
  },
  {
   "cell_type": "markdown",
   "id": "840d8e52",
   "metadata": {},
   "source": [
    "What does the kmeans variable hold in terms of data? What are the kmeans labels?"
   ]
  },
  {
   "cell_type": "code",
   "execution_count": null,
   "id": "70b5c2ce",
   "metadata": {},
   "outputs": [],
   "source": [
    "for l in kmeans.labels_:\n",
    "    print(l, end=\" - \")"
   ]
  },
  {
   "cell_type": "markdown",
   "id": "b0067684",
   "metadata": {},
   "source": [
    "One thing which is interesting with kmeans is that one can predict the cluster of new data. As we are working with text here, this prediction is rather easy to test using the above `tfidf_vectorizer` and `kmeans`. "
   ]
  },
  {
   "cell_type": "code",
   "execution_count": null,
   "id": "3b5f677b",
   "metadata": {},
   "outputs": [],
   "source": [
    "sentences_to_predict = [\"I am a young person looking for an apartment in San Francisco\", \"I really like the old vibes and of Miami\"]\n",
    "kmeans.predict(tfidf_vectorizer.transform(sentences_to_predict))"
   ]
  },
  {
   "cell_type": "markdown",
   "id": "54a33558",
   "metadata": {},
   "source": [
    "## Visualise clusters\n",
    "\n",
    "Below is a (modified) plot function from our manual discussed in Ch.7. section 7.4.2. It displays clusters in a graph. It is the __same__ function we saw last week in _03-k-means-clustering_. "
   ]
  },
  {
   "cell_type": "code",
   "execution_count": null,
   "id": "01333131",
   "metadata": {},
   "outputs": [],
   "source": [
    "import numpy as np\n",
    "import matplotlib.pyplot as plt\n",
    "from sklearn.decomposition import PCA\n",
    "\n",
    "def plot(user_ratings, k):\n",
    "\n",
    "        h = 0.2\n",
    "        reduced_data = PCA(n_components=2).fit_transform(user_ratings)\n",
    "\n",
    "        kmeans = KMeans(init='k-means++', n_clusters=k, n_init=10)\n",
    "        kmeans.fit(reduced_data)\n",
    "\n",
    "        x_min, x_max = reduced_data[:, 0].min() - 1, reduced_data[:, 0].max() + 1\n",
    "        y_min, y_max = reduced_data[:, 1].min() - 1, reduced_data[:, 1].max() + 1\n",
    "        xx, yy = np.meshgrid(np.arange(x_min, x_max, h), np.arange(y_min, y_max, h))\n",
    "\n",
    "        Z = kmeans.predict(np.c_[xx.ravel(), yy.ravel()])\n",
    "\n",
    "        # Put the result into a color plot\n",
    "        Z = Z.reshape(xx.shape)\n",
    "\n",
    "        plt.figure(1)\n",
    "        plt.clf()\n",
    "        plt.imshow(Z, interpolation='nearest',\n",
    "                   extent=(xx.min(), xx.max(), yy.min(), yy.max()),\n",
    "                   cmap=plt.cm.Paired,\n",
    "                   aspect='auto', origin='lower')\n",
    "\n",
    "        centroids = kmeans.cluster_centers_\n",
    "        plt.plot(reduced_data[:, 0], reduced_data[:, 1], 'k.', markersize=2)\n",
    "        plt.scatter(centroids[:, 0], centroids[:, 1],\n",
    "                    marker='x', s=169, linewidths=3,\n",
    "                    color='r', zorder=10)\n",
    "        plt.title('K-means clustering of the user')"
   ]
  },
  {
   "cell_type": "markdown",
   "id": "06a750bc",
   "metadata": {},
   "source": [
    "Use the function above to display the computed _TF-IDF_ clusters.  "
   ]
  },
  {
   "cell_type": "code",
   "execution_count": null,
   "id": "47275f00",
   "metadata": {},
   "outputs": [],
   "source": [
    "from scipy.sparse import dok_matrix\n",
    "\n",
    "d_matrix = np.asarray(dok_matrix(tfidf).todense())\n",
    "\n",
    "plot(user_ratings=d_matrix, k=6)"
   ]
  },
  {
   "cell_type": "markdown",
   "id": "41777b5d",
   "metadata": {},
   "source": [
    "## Saving clusters\n",
    "\n",
    "Save your clusters in a pandas dataframe."
   ]
  },
  {
   "cell_type": "code",
   "execution_count": null,
   "id": "5a103541",
   "metadata": {},
   "outputs": [],
   "source": [
    "import pandas as pd\n",
    "\n",
    "# print(clusters_users.labels_)\n",
    "\n",
    "df_to_save = pd.DataFrame()\n",
    "df_to_save['Title'] = [entry[0] for entry in list_title_with_plot]\n",
    "df_to_save['Cluster'] = kmeans.labels_\n",
    "\n",
    "df_to_save.to_csv('data/Clusters_6_IMDb_plots.csv', index=False, sep=',')"
   ]
  },
  {
   "cell_type": "code",
   "execution_count": null,
   "id": "b9bc3155",
   "metadata": {},
   "outputs": [],
   "source": []
  }
 ],
 "metadata": {
  "kernelspec": {
   "display_name": "Python 3 (ipykernel)",
   "language": "python",
   "name": "python3"
  },
  "language_info": {
   "codemirror_mode": {
    "name": "ipython",
    "version": 3
   },
   "file_extension": ".py",
   "mimetype": "text/x-python",
   "name": "python",
   "nbconvert_exporter": "python",
   "pygments_lexer": "ipython3",
   "version": "3.9.6"
  }
 },
 "nbformat": 4,
 "nbformat_minor": 5
}
