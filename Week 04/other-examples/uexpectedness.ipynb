{
 "cells": [
  {
   "attachments": {},
   "cell_type": "markdown",
   "metadata": {},
   "source": [
    "![Screenshot 2024-02-27 at 07.02.33.png](<attachment:Screenshot 2024-02-27 at 07.02.33.png>)"
   ]
  },
  {
   "cell_type": "code",
   "execution_count": 1,
   "metadata": {},
   "outputs": [],
   "source": [
    "import numpy as np\n",
    "from numpy.linalg import norm\n",
    "from random import sample\n"
   ]
  },
  {
   "cell_type": "code",
   "execution_count": 2,
   "metadata": {},
   "outputs": [],
   "source": [
    "\n",
    "# Define the movies and their corresponding genres\n",
    "movies = {\n",
    "    'Toy Story': ['Family'],\n",
    "    'Die Hard': ['Action'],\n",
    "    'Star Wars': ['Sci-Fi'],\n",
    "    'Titanic': ['Romance'],\n",
    "    'Serendipity': ['Romance'],\n",
    "    'Lawrence of Arabia': ['History'],\n",
    "    'Predator': ['Action'],\n",
    "    'Face/Off': ['Action'],\n",
    "    'The Hangover': ['Comedy'],\n",
    "    'Top Gun': ['Action'],\n",
    "    'Gangs of New York': ['History'],\n",
    "    'The Devil Wears Prada': ['Comedy'],\n",
    "    'Pretty Woman': ['Romance'],\n",
    "    'Meet the Parents': ['Comedy'],\n",
    "    'Gladiator': ['Action'],\n",
    "    'Saving Private Ryan': ['War'],\n",
    "    'Terminator': ['Sci-Fi'],\n",
    "    'The Talented Mr. Ripley': ['Thriller'],\n",
    "    'Geisha': ['Drama'],\n",
    "    'Sicario': ['Action'],\n",
    "    'The Big Short': ['Drama'],\n",
    "    'Legends of the Fall': ['Drama'],\n",
    "    'Lilo & Stitch': ['Family'],\n",
    "    'Frozen': ['Family'],\n",
    "    'Pulp Fiction': ['Crime'],\n",
    "    'Aquaman': ['Action'],\n",
    "    'Avengers': ['Sci-Fi'],\n",
    "    'Uncharted': ['Action'],\n",
    "    'Get Smart': ['Comedy'],\n",
    "    'Crazy Stupid Love': ['Romance'],\n",
    "    'Chef': ['Drama'],\n",
    "    'Sudden Death': ['Action'],\n",
    "    'Matrix': ['Sci-Fi'],\n",
    "    'Lion King': ['Family'],\n",
    "    'Detective Pikachu': ['Family'],\n",
    "    'Ad Astra': ['Sci-Fi']\n",
    "}\n",
    "\n",
    "# List of genres to create a vector representation\n",
    "genres = ['Family', 'Action', 'Sci-Fi', 'Romance', 'History', 'Comedy', 'War', 'Thriller', 'Drama', 'Crime']\n"
   ]
  },
  {
   "cell_type": "code",
   "execution_count": 3,
   "metadata": {},
   "outputs": [
    {
     "data": {
      "text/plain": [
       "(['Crazy Stupid Love',\n",
       "  'Face/Off',\n",
       "  'Avengers',\n",
       "  'Pretty Woman',\n",
       "  'Toy Story',\n",
       "  'Die Hard',\n",
       "  'Predator',\n",
       "  'The Talented Mr. Ripley',\n",
       "  'Sicario',\n",
       "  'Gladiator'],\n",
       " ['Geisha', 'The Big Short', 'Titanic', 'Crazy Stupid Love', 'Lilo & Stitch'],\n",
       " 0.9)"
      ]
     },
     "execution_count": 3,
     "metadata": {},
     "output_type": "execute_result"
    }
   ],
   "source": [
    "#create genre vectors for each movie\n",
    "genre_vectors = {movie: [1 if genre in genres_list else 0 for genre in genres] for movie, genres_list in movies.items()}\n",
    "\n",
    "#function to calculate cosine similarity between two genre vectors\n",
    "def cosine_similarity(vec_a, vec_b):\n",
    "    return np.dot(vec_a, vec_b) / (norm(vec_a) * norm(vec_b))\n",
    "\n",
    "#generate mock historical interaction data (let's say the user has interacted with 10 movies)\n",
    "historical_interactions = sample(list(movies.keys()), 10)\n",
    "\n",
    "#generate mock recommendations (let's say we are recommending 5 movies)\n",
    "recommendations = sample(list(movies.keys()), 5)\n",
    "\n",
    "#calculate cosine similarity for each recommended movie against all historical movies\n",
    "similarity_scores = []\n",
    "for recommended in recommendations:\n",
    "    for historical in historical_interactions:\n",
    "        sim_score = cosine_similarity(genre_vectors[recommended], genre_vectors[historical])\n",
    "        similarity_scores.append(sim_score)\n",
    "\n",
    "#compute the unexpectedness score\n",
    "unexpectedness = 1 - (sum(similarity_scores) / len(similarity_scores))\n",
    "\n",
    "#let's output the interaction data and the unexpectedness score\n",
    "historical_interactions, recommendations, unexpectedness\n"
   ]
  },
  {
   "cell_type": "markdown",
   "metadata": {},
   "source": [
    "The calculated \"unexpectedness\" score for these recommendations is 0.8 (on a scale where 1 represents complete unexpectedness and 0 represents no unexpectedness). This high score suggests that the recommended movies are, on average, very different from what the user has historically interacted with, according to the genre vectors we've assigned."
   ]
  }
 ],
 "metadata": {
  "kernelspec": {
   "display_name": "Python 3 (ipykernel)",
   "language": "python",
   "name": "python3"
  },
  "language_info": {
   "codemirror_mode": {
    "name": "ipython",
    "version": 3
   },
   "file_extension": ".py",
   "mimetype": "text/x-python",
   "name": "python",
   "nbconvert_exporter": "python",
   "pygments_lexer": "ipython3",
   "version": "3.11.4"
  }
 },
 "nbformat": 4,
 "nbformat_minor": 2
}
