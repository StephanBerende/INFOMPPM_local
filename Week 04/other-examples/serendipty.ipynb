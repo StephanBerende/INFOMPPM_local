{
 "cells": [
  {
   "attachments": {},
   "cell_type": "markdown",
   "metadata": {},
   "source": [
    "![Screenshot 2024-02-27 at 06.44.18.png](<attachment:Screenshot 2024-02-27 at 06.44.18.png>)"
   ]
  },
  {
   "cell_type": "code",
   "execution_count": 1,
   "metadata": {},
   "outputs": [
    {
     "name": "stdout",
     "output_type": "stream",
     "text": [
      "Overall Serendipity Score: 0.17501726538302648\n"
     ]
    }
   ],
   "source": [
    "import numpy as np\n",
    "import random\n",
    "\n",
    "#define the genres\n",
    "genres = ['Action', 'Comedy', 'Drama', 'Fantasy', 'Horror', 'Romance', 'Sci-Fi', 'Thriller']\n",
    "\n",
    "#mock movie data with random genres and unexpectedness scores\n",
    "movies = {\n",
    "    'Movie1': {'genres': random.sample(genres, 2), 'unexpectedness': np.random.uniform()},\n",
    "    'Movie2': {'genres': random.sample(genres, 2), 'unexpectedness': np.random.uniform()},\n",
    "    'Movie3': {'genres': random.sample(genres, 2), 'unexpectedness': np.random.uniform()},\n",
    "    # ... add as many movies as you need\n",
    "}\n",
    "\n",
    "#generate mock user data\n",
    "users = {\n",
    "    'User1': {'watched': ['Movie1'], 'preferred_genres': ['Action', 'Sci-Fi']},\n",
    "    'User2': {'watched': ['Movie2'], 'preferred_genres': ['Drama', 'Romance']},\n",
    "    # ... add as many users as you need\n",
    "}\n",
    "\n",
    "#function to calculate unexpectedness of a movie for a user\n",
    "def calculate_unexpectedness(user, movie):\n",
    "    #lower unexpectedness if the movie's genre matches user's preference\n",
    "    unexpectedness = movies[movie]['unexpectedness']\n",
    "    for genre in movies[movie]['genres']:\n",
    "        if genre in users[user]['preferred_genres']:\n",
    "            unexpectedness /= 2\n",
    "    return unexpectedness\n",
    "\n",
    "#function to determine if a movie is relevant to a user\n",
    "def is_relevant(user, movie):\n",
    "    #movie is relevant if the user hasn't watched it yet\n",
    "    return movie not in users[user]['watched']\n",
    "\n",
    "#calculate serendipity scores\n",
    "def calculate_serendipity(users, movies):\n",
    "    serendipity_scores = []\n",
    "    \n",
    "    for user in users:\n",
    "        user_serendipity_scores = []\n",
    "        for movie in movies:\n",
    "            if is_relevant(user, movie):\n",
    "                relevance = 1\n",
    "            else:\n",
    "                relevance = 0\n",
    "            unexpectedness = calculate_unexpectedness(user, movie)\n",
    "            serendipity_score = unexpectedness * relevance\n",
    "            user_serendipity_scores.append(serendipity_score)\n",
    "        \n",
    "        #avoid division by zero if user has no relevant movies\n",
    "        if len(user_serendipity_scores) > 0:\n",
    "            serendipity_scores.append(np.mean(user_serendipity_scores))\n",
    "    \n",
    "    #avoid division by zero if there are no users\n",
    "    if len(serendipity_scores) > 0:\n",
    "        overall_serendipity = np.mean(serendipity_scores)\n",
    "    else:\n",
    "        overall_serendipity = 0\n",
    "\n",
    "    return overall_serendipity\n",
    "\n",
    "# calculate and print the overall serendipity score\n",
    "overall_serendipity = calculate_serendipity(users, movies)\n",
    "print(f'Overall Serendipity Score: {overall_serendipity}')\n"
   ]
  }
 ],
 "metadata": {
  "kernelspec": {
   "display_name": "Python 3 (ipykernel)",
   "language": "python",
   "name": "python3"
  },
  "language_info": {
   "codemirror_mode": {
    "name": "ipython",
    "version": 3
   },
   "file_extension": ".py",
   "mimetype": "text/x-python",
   "name": "python",
   "nbconvert_exporter": "python",
   "pygments_lexer": "ipython3",
   "version": "3.11.4"
  }
 },
 "nbformat": 4,
 "nbformat_minor": 2
}
