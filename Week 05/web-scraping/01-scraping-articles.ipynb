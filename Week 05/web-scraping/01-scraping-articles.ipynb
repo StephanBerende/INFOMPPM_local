{
 "cells": [
  {
   "attachments": {},
   "cell_type": "markdown",
   "metadata": {},
   "source": [
    "# Simple web scraping example (www.pbs.org/newshour)"
   ]
  },
  {
   "cell_type": "code",
   "execution_count": null,
   "metadata": {},
   "outputs": [],
   "source": [
    "#!pip install BeautifulSoup4"
   ]
  },
  {
   "attachments": {},
   "cell_type": "markdown",
   "metadata": {},
   "source": [
    "### Import the libraries"
   ]
  },
  {
   "cell_type": "code",
   "execution_count": null,
   "metadata": {},
   "outputs": [],
   "source": [
    "# to get the URL\n",
    "import requests\n",
    "\n",
    "# to parse the HTMLDOM\n",
    "from bs4 import BeautifulSoup\n",
    "\n",
    "# patience is virtue\n",
    "import time"
   ]
  },
  {
   "attachments": {},
   "cell_type": "markdown",
   "metadata": {},
   "source": [
    "### Get the first page"
   ]
  },
  {
   "cell_type": "code",
   "execution_count": null,
   "metadata": {},
   "outputs": [],
   "source": [
    "# the url we want to scrape\n",
    "url = 'https://www.pbs.org/newshour/search-results?q=%22artificial%20intelligence%22'\n",
    "\n",
    "# get data from the url\n",
    "res = requests.get(url)\n",
    "\n",
    "\n",
    "# parse to bs4\n",
    "soup = BeautifulSoup(res.content, 'html.parser')\n",
    "\n",
    "\n",
    "# let's get something as simple as a title\n",
    "# use .get_text() to extract the text from the element(s)\n",
    "title = soup.find('title').get_text()\n",
    "\n",
    "# output the title\n",
    "title"
   ]
  },
  {
   "attachments": {},
   "cell_type": "markdown",
   "metadata": {},
   "source": [
    "### Get list of articles"
   ]
  },
  {
   "cell_type": "code",
   "execution_count": null,
   "metadata": {},
   "outputs": [],
   "source": [
    "# .search-result\n",
    "items = soup.find_all(class_='search-result')\n",
    "\n",
    "# iterate through the items\n",
    "for item in items:\n",
    "  title = item.find(class_='search-result__title').get_text()\n",
    "  \n",
    "  # the a element consistitutes a link find the href attribute which is the actual link\n",
    "  url = item.find('a')['href']\n",
    "  \n",
    "  description = item.find('p').get_text().strip()\n",
    "  date = item.find(class_='search-result__date').get_text()\n",
    "\n",
    "  print(url)"
   ]
  },
  {
   "attachments": {},
   "cell_type": "markdown",
   "metadata": {},
   "source": [
    "### Pagination"
   ]
  },
  {
   "cell_type": "code",
   "execution_count": null,
   "metadata": {},
   "outputs": [],
   "source": [
    "# check the number of pages\n",
    "total_pages = int(soup.find_all(class_='pagination__number')[-1].get_text())\n",
    "\n",
    "# create an empty list\n",
    "url_list = []\n",
    "\n",
    "for page in range(1,total_pages+1):\n",
    "  # wait a little bit\n",
    "  time.sleep(2)\n",
    "  \n",
    "  # get the url, this could be a bit better besides being hardcord\n",
    "  url = 'https://www.pbs.org/newshour/search-results?q=%22artificial+intelligence%22&pnb='+str(page)\n",
    "\n",
    "  # get data from the url\n",
    "  res = requests.get(url)\n",
    "\n",
    "  # parse to bs4\n",
    "  soup = BeautifulSoup(res.content, 'html.parser')\n",
    "\n",
    "  # .search-result\n",
    "  items = soup.find_all(class_='search-result')\n",
    "\n",
    "  # get the urls\n",
    "  for item in items:\n",
    "    url = item.find('a')['href']\n",
    "    url_list.append(url)\n"
   ]
  },
  {
   "cell_type": "code",
   "execution_count": null,
   "metadata": {},
   "outputs": [],
   "source": [
    "url_list"
   ]
  },
  {
   "attachments": {},
   "cell_type": "markdown",
   "metadata": {},
   "source": [
    "### And now you can download every page individually!"
   ]
  },
  {
   "cell_type": "code",
   "execution_count": null,
   "metadata": {},
   "outputs": [],
   "source": [
    "for url in url_list:\n",
    "  # wait\n",
    "  print('Retrieving', url)\n",
    "  time.sleep(2)\n",
    "\n",
    "  # get data from the url\n",
    "  res = requests.get(url)\n",
    "\n",
    "  # parse to bs4\n",
    "  soup = BeautifulSoup(res.content, 'html.parser')\n",
    "  file = url.replace('https://www.pbs.org/newshour/', '').replace('/', '-') + '.html'\n",
    "  \n",
    "  # save to disk\n",
    "  with open('data/PBS/'+file, \"w\") as f:\n",
    "    f.write(str(soup))"
   ]
  }
 ],
 "metadata": {
  "kernelspec": {
   "display_name": "Python 3",
   "language": "python",
   "name": "python3"
  },
  "language_info": {
   "codemirror_mode": {
    "name": "ipython",
    "version": 3
   },
   "file_extension": ".py",
   "mimetype": "text/x-python",
   "name": "python",
   "nbconvert_exporter": "python",
   "pygments_lexer": "ipython3",
   "version": "3.12.1"
  },
  "orig_nbformat": 4,
  "vscode": {
   "interpreter": {
    "hash": "37c10f95d263926787ebf1d430d11186fc6b9bac835b8518e0b5006ed24f0c36"
   }
  }
 },
 "nbformat": 4,
 "nbformat_minor": 2
}
