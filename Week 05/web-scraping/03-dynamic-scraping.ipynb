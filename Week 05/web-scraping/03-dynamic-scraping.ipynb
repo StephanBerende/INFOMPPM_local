{
 "cells": [
  {
   "attachments": {},
   "cell_type": "markdown",
   "metadata": {},
   "source": [
    "# Dynamic Scraping Example"
   ]
  },
  {
   "attachments": {},
   "cell_type": "markdown",
   "metadata": {},
   "source": [
    "### Import the libraries"
   ]
  },
  {
   "cell_type": "code",
   "execution_count": null,
   "metadata": {},
   "outputs": [],
   "source": [
    "#!pip install -U selenium\n",
    "#!pip install -U webdriver-manager"
   ]
  },
  {
   "cell_type": "code",
   "execution_count": 9,
   "metadata": {},
   "outputs": [],
   "source": [
    "from selenium import webdriver\n",
    "from selenium.webdriver.chrome.service import Service as ChromeService\n",
    "from webdriver_manager.chrome import ChromeDriverManager\n",
    "\n",
    "#driver = webdriver.Chrome(service=ChromeService(ChromeDriverManager().install()))\n",
    "driver = webdriver.Chrome()"
   ]
  },
  {
   "cell_type": "code",
   "execution_count": null,
   "metadata": {},
   "outputs": [],
   "source": [
    "# test the driver\n",
    "driver.get('http://www.nu.nl')"
   ]
  },
  {
   "cell_type": "code",
   "execution_count": 1,
   "metadata": {},
   "outputs": [],
   "source": [
    "# import relevant libraries\n",
    "from bs4 import BeautifulSoup\n",
    "import json\n",
    "import os\n",
    "import time\n",
    "\n",
    "from selenium import webdriver\n",
    "from selenium.webdriver.chrome.service import Service as ChromeService\n",
    "from selenium.webdriver.common.keys import Keys\n",
    "from selenium.webdriver.support.ui import Select\n",
    "from selenium.common.exceptions import NoSuchElementException    \n",
    "\n",
    "from selenium import webdriver\n",
    "from webdriver_manager.chrome import ChromeDriverManager\n",
    "\n",
    "# this to get rid of the pesky \"Chrome is being controlled by automated test software\" that messed up the cool autoscroll\n",
    "\n",
    "options = webdriver.ChromeOptions()\n",
    "options.add_argument('disable-infobars')\n",
    "#options.add_argument(\"--headless\")\n",
    "options.add_argument(\"--no-sandbox\")\n",
    "options.add_experimental_option(\"excludeSwitches\", [\"enable-automation\"])\n",
    "options.add_experimental_option('useAutomationExtension', False)\n",
    "\n",
    "# get latest Chrome driver\n",
    "# driver = webdriver.Chrome(service=ChromeService(ChromeDriverManager().install()), options=options)\n",
    "driver = webdriver.Chrome()"
   ]
  },
  {
   "attachments": {},
   "cell_type": "markdown",
   "metadata": {},
   "source": [
    "### Select a station"
   ]
  },
  {
   "cell_type": "code",
   "execution_count": null,
   "metadata": {},
   "outputs": [],
   "source": [
    "def select_station():\n",
    "  # click on select station\n",
    "  driver.find_element('id', 'pbs_loc_name').click()\n",
    "\n",
    "  time.sleep(1)\n",
    "  select = Select(driver.find_element('id', 'regionSelect'))\n",
    "  select.select_by_value('NY')\n",
    "\n",
    "  time.sleep(1)\n",
    "  driver.find_element('id','serchByRegion').click()\n",
    "\n",
    "  time.sleep(1)\n",
    "  driver.find_element('id','WNET').click()\n",
    "\n",
    "  time.sleep(1)\n",
    "  driver.find_element('id','confirmStation').click()\n",
    "\n",
    "# the url we are going to scrape\n",
    "url = \"https://www.pbs.org/\"\n",
    "driver.get(url)\n",
    "\n",
    "# wait\n",
    "time.sleep(5)\n",
    "\n",
    "# choose a station and \n",
    "select_station()\n",
    "\n",
    "# wait\n",
    "time.sleep(2)"
   ]
  },
  {
   "attachments": {},
   "cell_type": "markdown",
   "metadata": {},
   "source": [
    "### Select a category and scroll down"
   ]
  },
  {
   "cell_type": "code",
   "execution_count": null,
   "metadata": {},
   "outputs": [],
   "source": [
    "# the category we are interested in\n",
    "genre = 'culture'\n",
    "\n",
    "# get the url\n",
    "url = 'https://www.pbs.org/shows/?search=&genre=' + genre\n",
    "driver.get(url)"
   ]
  },
  {
   "cell_type": "code",
   "execution_count": null,
   "metadata": {},
   "outputs": [],
   "source": [
    "# so I figured out why this did not work during the presentation. \n",
    "# Selenium adds a nice \"Chrome is being controlled by automated test software\" which never bothered this part of the code before\n",
    "# And I probably closed that bar while testing the code. It works now!\n",
    "\n",
    "# Get scroll height\n",
    "last_height = driver.execute_script('return document.body.scrollHeight')\n",
    "\n",
    "while True:\n",
    "  # Scroll down to bottom\n",
    "  driver.execute_script('window.scrollTo(0, document.body.scrollHeight);')\n",
    "\n",
    "  # Wait to load page\n",
    "  time.sleep(6)\n",
    "\n",
    "  # Calculate new scroll height and compare with last scroll height\n",
    "  new_height = driver.execute_script('return document.body.scrollHeight')\n",
    "  if new_height == last_height:\n",
    "    break\n",
    "  last_height = new_height"
   ]
  },
  {
   "attachments": {},
   "cell_type": "markdown",
   "metadata": {},
   "source": [
    "### Get list of pages and download each show"
   ]
  },
  {
   "cell_type": "code",
   "execution_count": null,
   "metadata": {},
   "outputs": [],
   "source": [
    "# get the page source from Selenium\n",
    "page_source = driver.page_source\n",
    "\n",
    "# parse through BS\n",
    "soup = BeautifulSoup(page_source, 'html.parser')\n",
    "\n",
    "shows = []\n",
    "\n",
    "# get all tiles\n",
    "items = soup.find_all('article')\n",
    "\n",
    "# iterate through tiles\n",
    "for item in items:\n",
    "  link = item.find('a')['href']\n",
    "  name = link.replace('/show/', '').replace('/', '')\n",
    "  dir = 'data/'+genre\n",
    "\n",
    "  show_url = 'http://www.pbs.org' + link\n",
    "  file = dir + '/' + name + '.html'\n",
    "  if os.path.isfile(file) == False:\n",
    "    print('Retrieving', show_url)    \n",
    "    driver.get(show_url)\n",
    "    \n",
    "    # PBS tends to block at one point. Sleep 10 is good\n",
    "    time.sleep(10)\n",
    "    \n",
    "    # save\n",
    "    with open(file, 'w') as f:\n",
    "      f.write(driver.page_source)"
   ]
  }
 ],
 "metadata": {
  "kernelspec": {
   "display_name": "Python 3",
   "language": "python",
   "name": "python3"
  },
  "language_info": {
   "codemirror_mode": {
    "name": "ipython",
    "version": 3
   },
   "file_extension": ".py",
   "mimetype": "text/x-python",
   "name": "python",
   "nbconvert_exporter": "python",
   "pygments_lexer": "ipython3",
   "version": "3.12.1"
  },
  "orig_nbformat": 4,
  "vscode": {
   "interpreter": {
    "hash": "37c10f95d263926787ebf1d430d11186fc6b9bac835b8518e0b5006ed24f0c36"
   }
  }
 },
 "nbformat": 4,
 "nbformat_minor": 2
}
