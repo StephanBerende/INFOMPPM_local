{
 "cells": [
  {
   "cell_type": "markdown",
   "metadata": {
    "id": "ELfVIeTvpNnp"
   },
   "source": [
    "# Running Streamlit on Google Colab"
   ]
  },
  {
   "cell_type": "markdown",
   "metadata": {
    "id": "WdXzaz7cq7YU"
   },
   "source": [
    "## Installing dependencies"
   ]
  },
  {
   "cell_type": "code",
   "execution_count": null,
   "metadata": {
    "id": "ZMklyAM-pM_v"
   },
   "outputs": [],
   "source": [
    "# Install streamlit\n",
    "# note that this method works for any Python packages you may want to add\n",
    "\n",
    "!pip install streamlit"
   ]
  },
  {
   "cell_type": "code",
   "execution_count": 3,
   "metadata": {
    "id": "3ty3dPRSpdtb"
   },
   "outputs": [
    {
     "name": "stderr",
     "output_type": "stream",
     "text": [
      "'npm' is not recognized as an internal or external command,\n",
      "operable program or batch file.\n"
     ]
    }
   ],
   "source": [
    "# Install Node library localtunnel\n",
    "# You don't need to understand this\n",
    "!npm install localtunnel"
   ]
  },
  {
   "cell_type": "markdown",
   "metadata": {
    "id": "vX-D1kG8q-gN"
   },
   "source": [
    "## Run streamlit"
   ]
  },
  {
   "cell_type": "markdown",
   "metadata": {
    "id": "PWxqJecjrDTv"
   },
   "source": [
    "### Create a streamlit application\n",
    "Replace this with an upload of the appropriate streamlit application."
   ]
  },
  {
   "cell_type": "code",
   "execution_count": null,
   "metadata": {
    "id": "joug8xupp-i_"
   },
   "outputs": [],
   "source": [
    "%%writefile app.py\n",
    "\n",
    "import streamlit as st\n",
    "\n",
    "st.write('Hello, *World!* :sunglasses:')"
   ]
  },
  {
   "cell_type": "code",
   "execution_count": 4,
   "metadata": {
    "id": "yhrIQl83puaU"
   },
   "outputs": [],
   "source": [
    "# Run streamlit\n",
    "# Make sure you upload an 'app.py' file containing a streamlit application\n",
    "!streamlit run app.py &>/content/logs.txt &"
   ]
  },
  {
   "cell_type": "markdown",
   "metadata": {
    "id": "jTAjlNGVqJnj"
   },
   "source": [
    "## Obtaining streamlits IP address\n",
    "In the created file `logs.txt` you should see two IPv4 adresses.\n",
    "Select 'external url' **minus** the port.\n",
    "\n",
    "In my case:\n",
    "```  You can now view your Streamlit app in your browser.\n",
    "\n",
    "  Network URL: http://172.28.0.12:8501\n",
    "  External URL: http://34.139.1.17:8501\n",
    "```\n",
    "\n",
    "I copy:\n",
    "`34.139.1.17`"
   ]
  },
  {
   "cell_type": "markdown",
   "metadata": {
    "id": "F8bXfauVrOm7"
   },
   "source": [
    "### Access streamlit through tunnel"
   ]
  },
  {
   "cell_type": "code",
   "execution_count": 5,
   "metadata": {
    "colab": {
     "base_uri": "https://localhost:8080/"
    },
    "id": "eA4qiNO7p5vk",
    "outputId": "154e7b97-c85c-452f-dc29-71a0833c47a0"
   },
   "outputs": [
    {
     "name": "stdout",
     "output_type": "stream",
     "text": [
      "\u001b[K\u001b[?25hnpx: installed 22 in 2.117s\n",
      "your url is: https://nine-impalas-accept.loca.lt\n",
      "^C\n"
     ]
    }
   ],
   "source": [
    "# Run localtunnel\n",
    "\n",
    "!npx localtunnel --port 8501"
   ]
  },
  {
   "cell_type": "markdown",
   "metadata": {
    "id": "4lDgPHZfrVLf"
   },
   "source": [
    "This command outputs an url you can visit.\n",
    "\n",
    "There, paste the external url you copied above in `tunnel password`.\n",
    "\n",
    "Then, submit to take you to streamlit."
   ]
  }
 ],
 "metadata": {
  "colab": {
   "provenance": []
  },
  "kernelspec": {
   "display_name": "Python 3 (ipykernel)",
   "language": "python",
   "name": "python3"
  },
  "language_info": {
   "codemirror_mode": {
    "name": "ipython",
    "version": 3
   },
   "file_extension": ".py",
   "mimetype": "text/x-python",
   "name": "python",
   "nbconvert_exporter": "python",
   "pygments_lexer": "ipython3",
   "version": "3.11.4"
  }
 },
 "nbformat": 4,
 "nbformat_minor": 1
}
